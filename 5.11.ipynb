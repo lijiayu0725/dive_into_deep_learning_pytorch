{
 "cells": [
  {
   "cell_type": "code",
   "execution_count": 1,
   "metadata": {},
   "outputs": [],
   "source": [
    "import d2lzh as d2l\n",
    "import torch\n",
    "from torch.nn import init\n",
    "from torch import nn\n",
    "from torch.nn import functional as F\n",
    "from torch import optim\n",
    "\n",
    "class Residual(nn.Module):\n",
    "    def __init__(self, in_channels, out_channels, use_1x1conv=False, stride=1):\n",
    "        super(Residual, self).__init__()\n",
    "        self.conv1 = nn.Conv2d(in_channels, out_channels, kernel_size=3, padding=1, stride=stride)\n",
    "        self.conv2 = nn.Conv2d(out_channels, out_channels, kernel_size=3, padding=1)\n",
    "        if use_1x1conv:\n",
    "            self.conv3 = nn.Conv2d(in_channels, out_channels, kernel_size=1, stride=stride)\n",
    "        else:\n",
    "            self.conv3 = None\n",
    "        self.bn1 = nn.BatchNorm2d(out_channels)\n",
    "        self.bn2 = nn.BatchNorm2d(out_channels)\n",
    "        \n",
    "    def forward(self, X):\n",
    "        Y = F.relu(self.bn1(self.conv1(X)))\n",
    "        y = self.bn2(self.conv2(Y))\n",
    "        if self.conv3:\n",
    "            X = self.conv3(X)\n",
    "        return F.relu(Y + X)"
   ]
  },
  {
   "cell_type": "code",
   "execution_count": 2,
   "metadata": {},
   "outputs": [
    {
     "data": {
      "text/plain": [
       "torch.Size([4, 3, 6, 6])"
      ]
     },
     "execution_count": 2,
     "metadata": {},
     "output_type": "execute_result"
    }
   ],
   "source": [
    "block = Residual(3, 3)\n",
    "X = torch.rand((4, 3, 6, 6))\n",
    "block(X).shape"
   ]
  },
  {
   "cell_type": "code",
   "execution_count": 3,
   "metadata": {},
   "outputs": [
    {
     "data": {
      "text/plain": [
       "torch.Size([4, 6, 3, 3])"
      ]
     },
     "execution_count": 3,
     "metadata": {},
     "output_type": "execute_result"
    }
   ],
   "source": [
    "block = Residual(3, 6, use_1x1conv=True, stride=2)\n",
    "block(X).shape"
   ]
  },
  {
   "cell_type": "code",
   "execution_count": 4,
   "metadata": {},
   "outputs": [],
   "source": [
    "net = nn.Sequential(\n",
    "    nn.Conv2d(1, 64, kernel_size=7, stride=2, padding=3),\n",
    "    nn.BatchNorm2d(64),\n",
    "    nn.ReLU(),\n",
    "    nn.MaxPool2d(3, stride=2, padding=1)\n",
    ")"
   ]
  },
  {
   "cell_type": "code",
   "execution_count": 5,
   "metadata": {},
   "outputs": [],
   "source": [
    "def resnet_block(in_channels, out_channels, num_residual, first_block=False):\n",
    "    block = nn.Sequential()\n",
    "    for i in range(num_residual):\n",
    "        if i == 0 and not first_block:\n",
    "            block.add_module('residual-%d' % i, Residual(in_channels, out_channels, use_1x1conv=True, stride=2))\n",
    "        else:\n",
    "            block.add_module('residual-%d' % i, Residual(out_channels, out_channels))\n",
    "    return block"
   ]
  },
  {
   "cell_type": "code",
   "execution_count": 6,
   "metadata": {},
   "outputs": [],
   "source": [
    "net.add_module('block-1', resnet_block(64, 64, 2, first_block=True))\n",
    "net.add_module('block-2', resnet_block(64, 128, 2))\n",
    "net.add_module('block-3', resnet_block(128, 256, 2))\n",
    "net.add_module('block-4', resnet_block(256, 512, 2))"
   ]
  },
  {
   "cell_type": "code",
   "execution_count": 7,
   "metadata": {},
   "outputs": [],
   "source": [
    "net.add_module('avgpool', d2l.GlobalAvgPool2d())\n",
    "net.add_module('flatten', d2l.FlattenLayer())\n",
    "net.add_module('fc', nn.Linear(512, 10))"
   ]
  },
  {
   "cell_type": "code",
   "execution_count": 8,
   "metadata": {},
   "outputs": [
    {
     "name": "stdout",
     "output_type": "stream",
     "text": [
      "output shape:\t torch.Size([1, 64, 112, 112])\n",
      "output shape:\t torch.Size([1, 64, 112, 112])\n",
      "output shape:\t torch.Size([1, 64, 112, 112])\n",
      "output shape:\t torch.Size([1, 64, 56, 56])\n",
      "output shape:\t torch.Size([1, 64, 56, 56])\n",
      "output shape:\t torch.Size([1, 128, 28, 28])\n",
      "output shape:\t torch.Size([1, 256, 14, 14])\n",
      "output shape:\t torch.Size([1, 512, 7, 7])\n",
      "output shape:\t torch.Size([1, 512, 1, 1])\n",
      "output shape:\t torch.Size([1, 512])\n",
      "output shape:\t torch.Size([1, 10])\n"
     ]
    }
   ],
   "source": [
    "X = torch.rand((1, 1, 224, 224))\n",
    "for layer in net:\n",
    "    X = layer(X)\n",
    "    print('output shape:\\t', X.shape)"
   ]
  },
  {
   "cell_type": "code",
   "execution_count": 9,
   "metadata": {},
   "outputs": [
    {
     "name": "stdout",
     "output_type": "stream",
     "text": [
      "training on cuda\n",
      "epoch 1, loss 0.0021, train acc 0.815, test acc 0.862, time 21.0 sec\n",
      "epoch 2, loss 0.0012, train acc 0.890, test acc 0.872, time 20.4 sec\n",
      "epoch 3, loss 0.0010, train acc 0.909, test acc 0.888, time 20.5 sec\n",
      "epoch 4, loss 0.0009, train acc 0.923, test acc 0.881, time 20.5 sec\n",
      "epoch 5, loss 0.0008, train acc 0.931, test acc 0.913, time 20.5 sec\n"
     ]
    }
   ],
   "source": [
    "lr, num_epochs, batch_size = 0.05, 5, 256\n",
    "device = 'cuda' if torch.cuda.is_available() else 'cpu'\n",
    "for name, layer in net.named_modules():\n",
    "    if type(layer) in (nn.Conv2d, nn.Linear):\n",
    "        init.xavier_normal_(layer.weight)\n",
    "optimizer = optim.SGD(net.parameters(), lr=lr)\n",
    "train_iter, test_iter = d2l.load_data_fashion_mnist(batch_size, resize=96)\n",
    "d2l.train_ch5(net, train_iter, test_iter, batch_size, optimizer, device, num_epochs)"
   ]
  },
  {
   "cell_type": "code",
   "execution_count": null,
   "metadata": {},
   "outputs": [],
   "source": []
  }
 ],
 "metadata": {
  "kernelspec": {
   "display_name": "Python 3",
   "language": "python",
   "name": "python3"
  },
  "language_info": {
   "codemirror_mode": {
    "name": "ipython",
    "version": 3
   },
   "file_extension": ".py",
   "mimetype": "text/x-python",
   "name": "python",
   "nbconvert_exporter": "python",
   "pygments_lexer": "ipython3",
   "version": "3.7.1"
  }
 },
 "nbformat": 4,
 "nbformat_minor": 2
}
