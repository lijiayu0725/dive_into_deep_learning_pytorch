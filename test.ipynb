{
 "cells": [
  {
   "cell_type": "code",
   "execution_count": 6,
   "metadata": {},
   "outputs": [],
   "source": [
    "import torch\n",
    "\n",
    "def cpu_compute(size):\n",
    "    a = torch.randn((size, size))\n",
    "    b = torch.randn((size, size))\n",
    "    %timeit a @ b\n",
    "    print('cpu')\n",
    "    \n",
    "def gpu_compute(size):\n",
    "    a = torch.randn((size, size)).cuda()\n",
    "    b = torch.randn((size, size)).cuda()\n",
    "    %timeit a @ b\n",
    "    print('gpu')"
   ]
  },
  {
   "cell_type": "code",
   "execution_count": 8,
   "metadata": {},
   "outputs": [
    {
     "name": "stdout",
     "output_type": "stream",
     "text": [
      "77.6 ms ± 361 µs per loop (mean ± std. dev. of 7 runs, 10 loops each)\n",
      "cpu\n",
      "5.36 ms ± 13.9 µs per loop (mean ± std. dev. of 7 runs, 1000 loops each)\n",
      "gpu\n"
     ]
    }
   ],
   "source": [
    "cpu_compute(3000)\n",
    "gpu_compute(3000)"
   ]
  },
  {
   "cell_type": "code",
   "execution_count": null,
   "metadata": {},
   "outputs": [],
   "source": []
  }
 ],
 "metadata": {
  "kernelspec": {
   "display_name": "Python 3",
   "language": "python",
   "name": "python3"
  },
  "language_info": {
   "codemirror_mode": {
    "name": "ipython",
    "version": 3
   },
   "file_extension": ".py",
   "mimetype": "text/x-python",
   "name": "python",
   "nbconvert_exporter": "python",
   "pygments_lexer": "ipython3",
   "version": "3.7.2"
  }
 },
 "nbformat": 4,
 "nbformat_minor": 2
}
