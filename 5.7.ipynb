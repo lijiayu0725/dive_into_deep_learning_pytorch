{
 "cells": [
  {
   "cell_type": "code",
   "execution_count": 1,
   "metadata": {},
   "outputs": [],
   "source": [
    "import d2lzh as d2l\n",
    "from torch.nn import init\n",
    "from torch import nn\n",
    "import torch\n",
    "from torch import optim\n",
    "\n",
    "def vgg_block(layer_num, num_convs, channels):\n",
    "    assert num_convs + 1 == len(channels)\n",
    "    block = nn.Sequential()\n",
    "    for i in range(num_convs):\n",
    "        block.add_module('conv%d-%d' % (layer_num, i + 1), nn.Conv2d(channels[i], channels[i + 1], kernel_size=3, padding=1))\n",
    "        block.add_module('relu%d-%d' % (layer_num, i), nn.ReLU())\n",
    "    block.add_module('maxpool%d' % layer_num, nn.MaxPool2d(2))\n",
    "    return block"
   ]
  },
  {
   "cell_type": "code",
   "execution_count": 2,
   "metadata": {},
   "outputs": [],
   "source": [
    "conv_arch = ((1, (1, 64)), (1, (64, 128)), (2, (128, 256, 256)), (2, (256, 512, 512)), (2, (512, 512, 512)))"
   ]
  },
  {
   "cell_type": "code",
   "execution_count": 3,
   "metadata": {},
   "outputs": [],
   "source": [
    "def vgg(conv_arch):\n",
    "    net = nn.Sequential()\n",
    "    for i, (num_convs, channels) in enumerate(conv_arch):\n",
    "        net.add_module('conv%d' % (i + 1), vgg_block(i+1, num_convs, channels))\n",
    "        \n",
    "    net.add_module('fc', nn.Sequential(\n",
    "        d2l.FlattenLayer(),\n",
    "        nn.Linear(128 * 7 * 7, 4096),\n",
    "        nn.ReLU(),\n",
    "        nn.Dropout(),\n",
    "        nn.Linear(4096, 4096),\n",
    "        nn.ReLU(),\n",
    "        nn.Dropout(),\n",
    "        nn.Linear(4096, 10)\n",
    "    ))\n",
    "    return net"
   ]
  },
  {
   "cell_type": "code",
   "execution_count": 4,
   "metadata": {},
   "outputs": [],
   "source": [
    "net = vgg(conv_arch)"
   ]
  },
  {
   "cell_type": "code",
   "execution_count": 5,
   "metadata": {},
   "outputs": [
    {
     "name": "stdout",
     "output_type": "stream",
     "text": [
      "output shape:\t torch.Size([1, 64, 112, 112])\n",
      "output shape:\t torch.Size([1, 128, 56, 56])\n",
      "output shape:\t torch.Size([1, 256, 28, 28])\n",
      "output shape:\t torch.Size([1, 512, 14, 14])\n",
      "output shape:\t torch.Size([1, 512, 7, 7])\n",
      "output shape:\t torch.Size([1, 10])\n"
     ]
    }
   ],
   "source": [
    "X = torch.rand((1, 1, 224, 224))\n",
    "for blk in net:\n",
    "    X = blk(X)\n",
    "    print('output shape:\\t', X.shape)"
   ]
  },
  {
   "cell_type": "code",
   "execution_count": 4,
   "metadata": {},
   "outputs": [],
   "source": [
    "ratio = 4\n",
    "small_conv_arch = ((1, (1, 8)), (1, (8, 32)), (2, (32, 64, 64)), (2, (64, 128, 128)), (2, (128, 128, 128)))\n",
    "net = vgg(small_conv_arch)"
   ]
  },
  {
   "cell_type": "code",
   "execution_count": null,
   "metadata": {},
   "outputs": [
    {
     "name": "stdout",
     "output_type": "stream",
     "text": [
      "training on cuda\n",
      "epoch 1, loss 0.0088, train acc 0.578, test acc 0.801, time 48.7 sec\n",
      "epoch 2, loss 0.0032, train acc 0.850, test acc 0.852, time 48.9 sec\n",
      "epoch 3, loss 0.0026, train acc 0.877, test acc 0.870, time 49.1 sec\n",
      "epoch 4, loss 0.0023, train acc 0.893, test acc 0.890, time 49.1 sec\n"
     ]
    }
   ],
   "source": [
    "lr, num_epochs, batch_size = 0.05, 10, 128\n",
    "device = 'cuda' if torch.cuda.is_available() else 'cpu'\n",
    "for module in net:\n",
    "    for layer in module:\n",
    "        if type(layer) not in [nn.ReLU, d2l.FlattenLayer, nn.Dropout, nn.MaxPool2d]:\n",
    "            init.xavier_normal_(layer.weight.data)\n",
    "net = net.to(device)\n",
    "train_iter, test_iter = d2l.load_data_fashion_mnist(batch_size, resize=224)\n",
    "optimizer = optim.SGD(net.parameters(), lr=lr)\n",
    "d2l.train_ch5(net, train_iter, test_iter, batch_size, optimizer, device, num_epochs)"
   ]
  },
  {
   "cell_type": "code",
   "execution_count": null,
   "metadata": {},
   "outputs": [],
   "source": []
  }
 ],
 "metadata": {
  "kernelspec": {
   "display_name": "Python 3",
   "language": "python",
   "name": "python3"
  },
  "language_info": {
   "codemirror_mode": {
    "name": "ipython",
    "version": 3
   },
   "file_extension": ".py",
   "mimetype": "text/x-python",
   "name": "python",
   "nbconvert_exporter": "python",
   "pygments_lexer": "ipython3",
   "version": "3.7.3"
  }
 },
 "nbformat": 4,
 "nbformat_minor": 2
}
